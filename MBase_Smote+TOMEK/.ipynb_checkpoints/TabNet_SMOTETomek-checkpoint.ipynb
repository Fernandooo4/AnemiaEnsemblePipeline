{
 "cells": [
  {
   "cell_type": "code",
   "execution_count": 2,
   "id": "a797f173-ef27-41ae-86e7-8e92915106d0",
   "metadata": {
    "editable": true,
    "slideshow": {
     "slide_type": ""
    },
    "tags": []
   },
   "outputs": [
    {
     "name": "stdout",
     "output_type": "stream",
     "text": [
      "Requirement already satisfied: pytorch-tabnet in c:\\users\\luisc\\anaconda3\\lib\\site-packages (4.1.0)\n",
      "Requirement already satisfied: numpy>=1.17 in c:\\users\\luisc\\anaconda3\\lib\\site-packages (from pytorch-tabnet) (1.26.4)\n",
      "Requirement already satisfied: scikit_learn>0.21 in c:\\users\\luisc\\anaconda3\\lib\\site-packages (from pytorch-tabnet) (1.5.1)\n",
      "Requirement already satisfied: scipy>1.4 in c:\\users\\luisc\\anaconda3\\lib\\site-packages (from pytorch-tabnet) (1.13.1)\n",
      "Requirement already satisfied: torch>=1.3 in c:\\users\\luisc\\anaconda3\\lib\\site-packages (from pytorch-tabnet) (2.7.1)\n",
      "Requirement already satisfied: tqdm>=4.36 in c:\\users\\luisc\\anaconda3\\lib\\site-packages (from pytorch-tabnet) (4.66.5)\n",
      "Requirement already satisfied: joblib>=1.2.0 in c:\\users\\luisc\\anaconda3\\lib\\site-packages (from scikit_learn>0.21->pytorch-tabnet) (1.4.2)\n",
      "Requirement already satisfied: threadpoolctl>=3.1.0 in c:\\users\\luisc\\anaconda3\\lib\\site-packages (from scikit_learn>0.21->pytorch-tabnet) (3.5.0)\n",
      "Requirement already satisfied: filelock in c:\\users\\luisc\\anaconda3\\lib\\site-packages (from torch>=1.3->pytorch-tabnet) (3.13.1)\n",
      "Requirement already satisfied: typing-extensions>=4.10.0 in c:\\users\\luisc\\anaconda3\\lib\\site-packages (from torch>=1.3->pytorch-tabnet) (4.14.0)\n",
      "Requirement already satisfied: sympy>=1.13.3 in c:\\users\\luisc\\anaconda3\\lib\\site-packages (from torch>=1.3->pytorch-tabnet) (1.14.0)\n",
      "Requirement already satisfied: networkx in c:\\users\\luisc\\anaconda3\\lib\\site-packages (from torch>=1.3->pytorch-tabnet) (3.3)\n",
      "Requirement already satisfied: jinja2 in c:\\users\\luisc\\anaconda3\\lib\\site-packages (from torch>=1.3->pytorch-tabnet) (3.1.4)\n",
      "Requirement already satisfied: fsspec in c:\\users\\luisc\\anaconda3\\lib\\site-packages (from torch>=1.3->pytorch-tabnet) (2024.6.1)\n",
      "Requirement already satisfied: setuptools in c:\\users\\luisc\\anaconda3\\lib\\site-packages (from torch>=1.3->pytorch-tabnet) (75.1.0)\n",
      "Requirement already satisfied: colorama in c:\\users\\luisc\\anaconda3\\lib\\site-packages (from tqdm>=4.36->pytorch-tabnet) (0.4.6)\n",
      "Requirement already satisfied: mpmath<1.4,>=1.1.0 in c:\\users\\luisc\\anaconda3\\lib\\site-packages (from sympy>=1.13.3->torch>=1.3->pytorch-tabnet) (1.3.0)\n",
      "Requirement already satisfied: MarkupSafe>=2.0 in c:\\users\\luisc\\anaconda3\\lib\\site-packages (from jinja2->torch>=1.3->pytorch-tabnet) (2.1.3)\n"
     ]
    }
   ],
   "source": [
    "!pip install pytorch-tabnet\n",
    "import pandas as pd\n",
    "\n",
    "data = pd.read_csv(\"AnemiaTipos.csv\", index_col=None)\n",
    "\n",
    "import numpy as np\n",
    "import pandas as pd\n",
    "import matplotlib.pyplot as plt\n",
    "from sklearn.preprocessing import LabelEncoder\n",
    "from sklearn.model_selection import train_test_split\n",
    "from pytorch_tabnet.tab_model import TabNetClassifier\n",
    "from sklearn.metrics import accuracy_score, precision_score, recall_score, f1_score, roc_auc_score, matthews_corrcoef\n",
    "import warnings\n",
    "warnings.filterwarnings(\"ignore\")"
   ]
  },
  {
   "cell_type": "code",
   "execution_count": 3,
   "id": "efce8219-f6c8-429a-b8fc-042de0c021d1",
   "metadata": {},
   "outputs": [
    {
     "data": {
      "text/html": [
       "<div>\n",
       "<style scoped>\n",
       "    .dataframe tbody tr th:only-of-type {\n",
       "        vertical-align: middle;\n",
       "    }\n",
       "\n",
       "    .dataframe tbody tr th {\n",
       "        vertical-align: top;\n",
       "    }\n",
       "\n",
       "    .dataframe thead th {\n",
       "        text-align: right;\n",
       "    }\n",
       "</style>\n",
       "<table border=\"1\" class=\"dataframe\">\n",
       "  <thead>\n",
       "    <tr style=\"text-align: right;\">\n",
       "      <th></th>\n",
       "      <th>WBC</th>\n",
       "      <th>LYMp</th>\n",
       "      <th>NEUTp</th>\n",
       "      <th>LYMn</th>\n",
       "      <th>NEUTn</th>\n",
       "      <th>RBC</th>\n",
       "      <th>HGB</th>\n",
       "      <th>HCT</th>\n",
       "      <th>MCV</th>\n",
       "      <th>MCH</th>\n",
       "      <th>MCHC</th>\n",
       "      <th>PLT</th>\n",
       "      <th>PDW</th>\n",
       "      <th>PCT</th>\n",
       "      <th>Diagnosis</th>\n",
       "    </tr>\n",
       "  </thead>\n",
       "  <tbody>\n",
       "    <tr>\n",
       "      <th>0</th>\n",
       "      <td>10.00</td>\n",
       "      <td>43.200</td>\n",
       "      <td>50.100</td>\n",
       "      <td>4.30000</td>\n",
       "      <td>5.00000</td>\n",
       "      <td>2.77</td>\n",
       "      <td>7.3</td>\n",
       "      <td>24.2000</td>\n",
       "      <td>87.7</td>\n",
       "      <td>26.3</td>\n",
       "      <td>30.1</td>\n",
       "      <td>189.0</td>\n",
       "      <td>12.500000</td>\n",
       "      <td>0.17000</td>\n",
       "      <td>Normocytic hypochromic anemia</td>\n",
       "    </tr>\n",
       "    <tr>\n",
       "      <th>1</th>\n",
       "      <td>10.00</td>\n",
       "      <td>42.400</td>\n",
       "      <td>52.300</td>\n",
       "      <td>4.20000</td>\n",
       "      <td>5.30000</td>\n",
       "      <td>2.84</td>\n",
       "      <td>7.3</td>\n",
       "      <td>25.0000</td>\n",
       "      <td>88.2</td>\n",
       "      <td>25.7</td>\n",
       "      <td>20.2</td>\n",
       "      <td>180.0</td>\n",
       "      <td>12.500000</td>\n",
       "      <td>0.16000</td>\n",
       "      <td>Normocytic hypochromic anemia</td>\n",
       "    </tr>\n",
       "    <tr>\n",
       "      <th>2</th>\n",
       "      <td>7.20</td>\n",
       "      <td>30.700</td>\n",
       "      <td>60.700</td>\n",
       "      <td>2.20000</td>\n",
       "      <td>4.40000</td>\n",
       "      <td>3.97</td>\n",
       "      <td>9.0</td>\n",
       "      <td>30.5000</td>\n",
       "      <td>77.0</td>\n",
       "      <td>22.6</td>\n",
       "      <td>29.5</td>\n",
       "      <td>148.0</td>\n",
       "      <td>14.300000</td>\n",
       "      <td>0.14000</td>\n",
       "      <td>Iron deficiency anemia</td>\n",
       "    </tr>\n",
       "    <tr>\n",
       "      <th>3</th>\n",
       "      <td>6.00</td>\n",
       "      <td>30.200</td>\n",
       "      <td>63.500</td>\n",
       "      <td>1.80000</td>\n",
       "      <td>3.80000</td>\n",
       "      <td>4.22</td>\n",
       "      <td>3.8</td>\n",
       "      <td>32.8000</td>\n",
       "      <td>77.9</td>\n",
       "      <td>23.2</td>\n",
       "      <td>29.8</td>\n",
       "      <td>143.0</td>\n",
       "      <td>11.300000</td>\n",
       "      <td>0.12000</td>\n",
       "      <td>Iron deficiency anemia</td>\n",
       "    </tr>\n",
       "    <tr>\n",
       "      <th>4</th>\n",
       "      <td>4.20</td>\n",
       "      <td>39.100</td>\n",
       "      <td>53.700</td>\n",
       "      <td>1.60000</td>\n",
       "      <td>2.30000</td>\n",
       "      <td>3.93</td>\n",
       "      <td>0.4</td>\n",
       "      <td>316.0000</td>\n",
       "      <td>80.6</td>\n",
       "      <td>23.9</td>\n",
       "      <td>29.7</td>\n",
       "      <td>236.0</td>\n",
       "      <td>12.800000</td>\n",
       "      <td>0.22000</td>\n",
       "      <td>Normocytic hypochromic anemia</td>\n",
       "    </tr>\n",
       "    <tr>\n",
       "      <th>...</th>\n",
       "      <td>...</td>\n",
       "      <td>...</td>\n",
       "      <td>...</td>\n",
       "      <td>...</td>\n",
       "      <td>...</td>\n",
       "      <td>...</td>\n",
       "      <td>...</td>\n",
       "      <td>...</td>\n",
       "      <td>...</td>\n",
       "      <td>...</td>\n",
       "      <td>...</td>\n",
       "      <td>...</td>\n",
       "      <td>...</td>\n",
       "      <td>...</td>\n",
       "      <td>...</td>\n",
       "    </tr>\n",
       "    <tr>\n",
       "      <th>1145</th>\n",
       "      <td>4.40</td>\n",
       "      <td>25.845</td>\n",
       "      <td>77.511</td>\n",
       "      <td>1.88076</td>\n",
       "      <td>5.14094</td>\n",
       "      <td>4.86</td>\n",
       "      <td>13.5</td>\n",
       "      <td>46.1526</td>\n",
       "      <td>80.7</td>\n",
       "      <td>27.7</td>\n",
       "      <td>34.4</td>\n",
       "      <td>180.0</td>\n",
       "      <td>14.312512</td>\n",
       "      <td>0.26028</td>\n",
       "      <td>Healthy</td>\n",
       "    </tr>\n",
       "    <tr>\n",
       "      <th>1146</th>\n",
       "      <td>5.60</td>\n",
       "      <td>25.845</td>\n",
       "      <td>77.511</td>\n",
       "      <td>1.88076</td>\n",
       "      <td>5.14094</td>\n",
       "      <td>4.85</td>\n",
       "      <td>15.0</td>\n",
       "      <td>46.1526</td>\n",
       "      <td>91.7</td>\n",
       "      <td>31.0</td>\n",
       "      <td>33.8</td>\n",
       "      <td>215.0</td>\n",
       "      <td>14.312512</td>\n",
       "      <td>0.26028</td>\n",
       "      <td>Healthy</td>\n",
       "    </tr>\n",
       "    <tr>\n",
       "      <th>1147</th>\n",
       "      <td>9.20</td>\n",
       "      <td>25.845</td>\n",
       "      <td>77.511</td>\n",
       "      <td>1.88076</td>\n",
       "      <td>5.14094</td>\n",
       "      <td>4.47</td>\n",
       "      <td>13.1</td>\n",
       "      <td>46.1526</td>\n",
       "      <td>88.7</td>\n",
       "      <td>29.3</td>\n",
       "      <td>33.0</td>\n",
       "      <td>329.0</td>\n",
       "      <td>14.312512</td>\n",
       "      <td>0.26028</td>\n",
       "      <td>Healthy</td>\n",
       "    </tr>\n",
       "    <tr>\n",
       "      <th>1148</th>\n",
       "      <td>6.48</td>\n",
       "      <td>25.845</td>\n",
       "      <td>77.511</td>\n",
       "      <td>1.88076</td>\n",
       "      <td>5.14094</td>\n",
       "      <td>4.75</td>\n",
       "      <td>13.2</td>\n",
       "      <td>46.1526</td>\n",
       "      <td>86.7</td>\n",
       "      <td>27.9</td>\n",
       "      <td>32.1</td>\n",
       "      <td>174.0</td>\n",
       "      <td>14.312512</td>\n",
       "      <td>0.26028</td>\n",
       "      <td>Healthy</td>\n",
       "    </tr>\n",
       "    <tr>\n",
       "      <th>1149</th>\n",
       "      <td>8.80</td>\n",
       "      <td>25.845</td>\n",
       "      <td>77.511</td>\n",
       "      <td>1.88076</td>\n",
       "      <td>5.14094</td>\n",
       "      <td>4.95</td>\n",
       "      <td>15.2</td>\n",
       "      <td>46.1526</td>\n",
       "      <td>89.7</td>\n",
       "      <td>30.6</td>\n",
       "      <td>34.2</td>\n",
       "      <td>279.0</td>\n",
       "      <td>14.312512</td>\n",
       "      <td>0.26028</td>\n",
       "      <td>Healthy</td>\n",
       "    </tr>\n",
       "  </tbody>\n",
       "</table>\n",
       "<p>1150 rows × 15 columns</p>\n",
       "</div>"
      ],
      "text/plain": [
       "        WBC    LYMp   NEUTp     LYMn    NEUTn   RBC   HGB       HCT   MCV  \\\n",
       "0     10.00  43.200  50.100  4.30000  5.00000  2.77   7.3   24.2000  87.7   \n",
       "1     10.00  42.400  52.300  4.20000  5.30000  2.84   7.3   25.0000  88.2   \n",
       "2      7.20  30.700  60.700  2.20000  4.40000  3.97   9.0   30.5000  77.0   \n",
       "3      6.00  30.200  63.500  1.80000  3.80000  4.22   3.8   32.8000  77.9   \n",
       "4      4.20  39.100  53.700  1.60000  2.30000  3.93   0.4  316.0000  80.6   \n",
       "...     ...     ...     ...      ...      ...   ...   ...       ...   ...   \n",
       "1145   4.40  25.845  77.511  1.88076  5.14094  4.86  13.5   46.1526  80.7   \n",
       "1146   5.60  25.845  77.511  1.88076  5.14094  4.85  15.0   46.1526  91.7   \n",
       "1147   9.20  25.845  77.511  1.88076  5.14094  4.47  13.1   46.1526  88.7   \n",
       "1148   6.48  25.845  77.511  1.88076  5.14094  4.75  13.2   46.1526  86.7   \n",
       "1149   8.80  25.845  77.511  1.88076  5.14094  4.95  15.2   46.1526  89.7   \n",
       "\n",
       "       MCH  MCHC    PLT        PDW      PCT                      Diagnosis  \n",
       "0     26.3  30.1  189.0  12.500000  0.17000  Normocytic hypochromic anemia  \n",
       "1     25.7  20.2  180.0  12.500000  0.16000  Normocytic hypochromic anemia  \n",
       "2     22.6  29.5  148.0  14.300000  0.14000         Iron deficiency anemia  \n",
       "3     23.2  29.8  143.0  11.300000  0.12000         Iron deficiency anemia  \n",
       "4     23.9  29.7  236.0  12.800000  0.22000  Normocytic hypochromic anemia  \n",
       "...    ...   ...    ...        ...      ...                            ...  \n",
       "1145  27.7  34.4  180.0  14.312512  0.26028                        Healthy  \n",
       "1146  31.0  33.8  215.0  14.312512  0.26028                        Healthy  \n",
       "1147  29.3  33.0  329.0  14.312512  0.26028                        Healthy  \n",
       "1148  27.9  32.1  174.0  14.312512  0.26028                        Healthy  \n",
       "1149  30.6  34.2  279.0  14.312512  0.26028                        Healthy  \n",
       "\n",
       "[1150 rows x 15 columns]"
      ]
     },
     "execution_count": 3,
     "metadata": {},
     "output_type": "execute_result"
    }
   ],
   "source": [
    "data"
   ]
  },
  {
   "cell_type": "code",
   "execution_count": 4,
   "id": "b8f131fc-262f-45a4-ae83-40341b2a51b6",
   "metadata": {},
   "outputs": [
    {
     "data": {
      "text/plain": [
       "WBC          False\n",
       "LYMp         False\n",
       "NEUTp        False\n",
       "LYMn         False\n",
       "NEUTn        False\n",
       "RBC          False\n",
       "HGB          False\n",
       "HCT          False\n",
       "MCV          False\n",
       "MCH          False\n",
       "MCHC         False\n",
       "PLT          False\n",
       "PDW          False\n",
       "PCT          False\n",
       "Diagnosis    False\n",
       "dtype: bool"
      ]
     },
     "execution_count": 4,
     "metadata": {},
     "output_type": "execute_result"
    }
   ],
   "source": [
    "data.isnull().any()"
   ]
  },
  {
   "cell_type": "code",
   "execution_count": 5,
   "id": "66f8d395-8908-427e-b22e-15b7c9566013",
   "metadata": {},
   "outputs": [],
   "source": [
    "X = data[['WBC', 'LYMp', 'NEUTp', 'LYMn', 'NEUTn', 'RBC', 'HGB', 'HCT', 'MCV', 'MCH', 'MCHC', 'PLT', 'PDW', 'PCT']]"
   ]
  },
  {
   "cell_type": "code",
   "execution_count": 6,
   "id": "bf6b4c69-ed8f-4023-add6-1f2b7bbff6c2",
   "metadata": {},
   "outputs": [
    {
     "data": {
      "text/plain": [
       "(1150, 14)"
      ]
     },
     "execution_count": 6,
     "metadata": {},
     "output_type": "execute_result"
    }
   ],
   "source": [
    "X.shape"
   ]
  },
  {
   "cell_type": "code",
   "execution_count": 7,
   "id": "7b13ef33-5a46-4803-8ff1-df67fb34a850",
   "metadata": {},
   "outputs": [
    {
     "data": {
      "text/plain": [
       "(1150,)"
      ]
     },
     "execution_count": 7,
     "metadata": {},
     "output_type": "execute_result"
    }
   ],
   "source": [
    "Y = data['Diagnosis']\n",
    "#ya = data_datos[\"CALIFICACION_2\"]\n",
    "Y.shape"
   ]
  },
  {
   "cell_type": "markdown",
   "id": "dacc5ed7-b30e-4c95-b4c1-d96079df68c0",
   "metadata": {},
   "source": [
    "## CODIFICANDO \"Y\""
   ]
  },
  {
   "cell_type": "code",
   "execution_count": 9,
   "id": "dd88be6a-aec8-41e3-bc9a-9048cf760993",
   "metadata": {},
   "outputs": [
    {
     "name": "stdout",
     "output_type": "stream",
     "text": [
      "Codificación de clases:\n",
      "Healthy -> 0\n",
      "Iron deficiency anemia -> 1\n",
      "Macrocytic anemia -> 2\n",
      "Normocytic hypochromic anemia -> 3\n",
      "Normocytic normochromic anemia -> 4\n",
      "Other microcytic anemia -> 5\n"
     ]
    }
   ],
   "source": [
    "from sklearn.preprocessing import LabelEncoder\n",
    "\n",
    "le = LabelEncoder()\n",
    "y_codificado = le.fit_transform(Y)\n",
    "\n",
    "# Mostrar la codificación de cada clase\n",
    "print(\"Codificación de clases:\")\n",
    "for i, clase in enumerate(le.classes_):\n",
    "    print(f\"{clase} -> {i}\")"
   ]
  },
  {
   "cell_type": "code",
   "execution_count": 10,
   "id": "5301765b-eb16-4e24-82af-4ef76b982cb1",
   "metadata": {},
   "outputs": [
    {
     "name": "stdout",
     "output_type": "stream",
     "text": [
      "['Healthy' 'Iron deficiency anemia' 'Macrocytic anemia'\n",
      " 'Normocytic hypochromic anemia' 'Normocytic normochromic anemia'\n",
      " 'Other microcytic anemia']\n"
     ]
    }
   ],
   "source": [
    "print(le.classes_)\n",
    "##EN ESE ORDEN ESTAN PARA EL SISTEMA, DE AHI SACA 0 1 2 3 4 5 -->"
   ]
  },
  {
   "cell_type": "code",
   "execution_count": 19,
   "id": "cbb5bb80-8263-48ec-a8c4-f781d3fa9008",
   "metadata": {},
   "outputs": [],
   "source": [
    "from sklearn.metrics import roc_curve, auc\n",
    "from sklearn import datasets\n",
    "from sklearn.multiclass import OneVsRestClassifier\n",
    "from sklearn.svm import LinearSVC\n",
    "from sklearn.preprocessing import label_binarize\n",
    "from sklearn.model_selection import train_test_split\n",
    "import matplotlib.pyplot as plt"
   ]
  },
  {
   "cell_type": "markdown",
   "id": "f3249af3-024b-412e-9b6c-1b7b0579850a",
   "metadata": {},
   "source": [
    "# PARTICIONAMIENTO DE LA DATA"
   ]
  },
  {
   "cell_type": "code",
   "execution_count": 22,
   "id": "bf04cd5f-8550-4699-aa90-d7e1d1c9a7e2",
   "metadata": {},
   "outputs": [
    {
     "name": "stdout",
     "output_type": "stream",
     "text": [
      "---\n",
      "Entrenamiento: 920 muestras, 14 variables\n",
      "Etiquetas entrenamiento: 920 valores\n",
      "Prueba: 230 muestras, 14 variables\n",
      "Etiquetas prueba: 230 valores\n"
     ]
    }
   ],
   "source": [
    "from sklearn.model_selection import train_test_split\n",
    "\n",
    "# Aquí usas X sin cambios y la Y codificada\n",
    "X_trainset, X_testset, y_trainset, y_testset = train_test_split(X, y_codificado, test_size=0.2, random_state=0)\n",
    "print(\"---\")\n",
    "print(f\"Entrenamiento: {X_trainset.shape[0]} muestras, {X_trainset.shape[1]} variables\")\n",
    "print(f\"Etiquetas entrenamiento: {y_trainset.shape[0]} valores\")\n",
    "print(f\"Prueba: {X_testset.shape[0]} muestras, {X_testset.shape[1]} variables\")\n",
    "print(f\"Etiquetas prueba: {y_testset.shape[0]} valores\")"
   ]
  },
  {
   "cell_type": "markdown",
   "id": "a0291536-f33b-4eb7-9152-51b48ecb9d4a",
   "metadata": {},
   "source": [
    "# BALANCEO DE DATA"
   ]
  },
  {
   "cell_type": "code",
   "execution_count": 27,
   "id": "098c3321-252b-4271-920c-af6215570cf1",
   "metadata": {},
   "outputs": [
    {
     "name": "stdout",
     "output_type": "stream",
     "text": [
      "Distribución antes del resampling: Counter({0: 272, 3: 225, 4: 208, 1: 151, 5: 49, 2: 15})\n",
      "Distribución tras aplicar SMOTE-Tomek Counter({5: 271, 2: 271, 1: 266, 4: 262, 0: 260, 3: 256})\n"
     ]
    }
   ],
   "source": [
    "from imblearn.combine import SMOTETomek\n",
    "from collections  import Counter\n",
    "\n",
    "print(\"Distribución antes del resampling:\", Counter(y_trainset))\n",
    "\n",
    "os_us = SMOTETomek(sampling_strategy='auto', random_state=0)\n",
    "X_train_res, y_train_res = os_us.fit_resample(X_trainset, y_trainset)\n",
    "\n",
    "print(\"Distribución tras aplicar SMOTE-Tomek\", Counter(y_train_res))\n"
   ]
  },
  {
   "cell_type": "code",
   "execution_count": 29,
   "id": "803e0fd3-a36f-4b21-9188-097f6e2f767c",
   "metadata": {},
   "outputs": [
    {
     "ename": "NameError",
     "evalue": "name 'X_train' is not defined",
     "output_type": "error",
     "traceback": [
      "\u001b[1;31m---------------------------------------------------------------------------\u001b[0m",
      "\u001b[1;31mNameError\u001b[0m                                 Traceback (most recent call last)",
      "Cell \u001b[1;32mIn[29], line 2\u001b[0m\n\u001b[0;32m      1\u001b[0m \u001b[38;5;28;01mfrom\u001b[39;00m \u001b[38;5;21;01msklearn\u001b[39;00m\u001b[38;5;21;01m.\u001b[39;00m\u001b[38;5;21;01mpreprocessing\u001b[39;00m \u001b[38;5;28;01mimport\u001b[39;00m StandardScaler\n\u001b[1;32m----> 2\u001b[0m X_train_res, y_train_res \u001b[38;5;241m=\u001b[39m os_us\u001b[38;5;241m.\u001b[39mfit_resample(X_train, y_train)\n\u001b[0;32m      4\u001b[0m \u001b[38;5;66;03m# Ahora escalar los datos balanceados\u001b[39;00m\n\u001b[0;32m      5\u001b[0m scaler \u001b[38;5;241m=\u001b[39m StandardScaler()\n",
      "\u001b[1;31mNameError\u001b[0m: name 'X_train' is not defined"
     ]
    }
   ],
   "source": [
    "from sklearn.preprocessing import StandardScaler\n",
    "X_train_res, y_train_res = os_us.fit_resample(X_train, y_train)\n",
    "\n",
    "# Ahora escalar los datos balanceados\n",
    "scaler = StandardScaler()\n",
    "X_train_res_scaled = scaler.fit_transform(X_train_res)\n",
    "X_test_scaled = scaler.transform(X_test)  # Escalar test con mismo scaler\n",
    "\n",
    "# Convertir a DataFrame si lo necesitas\n",
    "X_train_res_df = pd.DataFrame(X_train_res_scaled, columns=X.columns)\n",
    "y_train_res_df = pd.Series(y_train_res, name='Diagnosis')\n",
    "train_df_res = pd.concat([X_train_res_df, y_train_res_df], axis=1)"
   ]
  },
  {
   "cell_type": "markdown",
   "id": "7585a09a-1000-45ac-a339-e7c3477674e9",
   "metadata": {},
   "source": [
    "# MODELO TabNET"
   ]
  },
  {
   "cell_type": "code",
   "execution_count": 79,
   "id": "67db4fdf-9a3c-4868-959d-7c9e193faeaf",
   "metadata": {},
   "outputs": [
    {
     "name": "stdout",
     "output_type": "stream",
     "text": [
      "Requirement already satisfied: skorch in c:\\users\\luisc\\anaconda3\\lib\\site-packages (1.1.0)\n",
      "Requirement already satisfied: numpy>=1.13.3 in c:\\users\\luisc\\anaconda3\\lib\\site-packages (from skorch) (1.26.4)\n",
      "Requirement already satisfied: scikit-learn>=0.22.0 in c:\\users\\luisc\\anaconda3\\lib\\site-packages (from skorch) (1.5.1)\n",
      "Requirement already satisfied: scipy>=1.1.0 in c:\\users\\luisc\\anaconda3\\lib\\site-packages (from skorch) (1.13.1)\n",
      "Requirement already satisfied: tabulate>=0.7.7 in c:\\users\\luisc\\anaconda3\\lib\\site-packages (from skorch) (0.9.0)\n",
      "Requirement already satisfied: tqdm>=4.14.0 in c:\\users\\luisc\\anaconda3\\lib\\site-packages (from skorch) (4.66.5)\n",
      "Requirement already satisfied: joblib>=1.2.0 in c:\\users\\luisc\\anaconda3\\lib\\site-packages (from scikit-learn>=0.22.0->skorch) (1.4.2)\n",
      "Requirement already satisfied: threadpoolctl>=3.1.0 in c:\\users\\luisc\\anaconda3\\lib\\site-packages (from scikit-learn>=0.22.0->skorch) (3.5.0)\n",
      "Requirement already satisfied: colorama in c:\\users\\luisc\\anaconda3\\lib\\site-packages (from tqdm>=4.14.0->skorch) (0.4.6)\n"
     ]
    }
   ],
   "source": [
    "!pip install skorch"
   ]
  },
  {
   "cell_type": "code",
   "execution_count": 81,
   "id": "78de2190-bff6-4649-b422-cec329f9958b",
   "metadata": {
    "scrolled": true
   },
   "outputs": [
    {
     "name": "stdout",
     "output_type": "stream",
     "text": [
      "Probando 64 combinaciones de hiperparámetros...\n",
      "\n",
      "Probando combinación 1: {'n_d': 16, 'n_a': 16, 'n_steps': 5, 'gamma': 1.3, 'lambda_sparse': 1e-05, 'lr': 0.001}\n"
     ]
    },
    {
     "ename": "NameError",
     "evalue": "name 'X_train_res_scaled' is not defined",
     "output_type": "error",
     "traceback": [
      "\u001b[1;31m---------------------------------------------------------------------------\u001b[0m",
      "\u001b[1;31mNameError\u001b[0m                                 Traceback (most recent call last)",
      "Cell \u001b[1;32mIn[81], line 48\u001b[0m\n\u001b[0;32m     32\u001b[0m \u001b[38;5;28mprint\u001b[39m(\u001b[38;5;124mf\u001b[39m\u001b[38;5;124m\"\u001b[39m\u001b[38;5;124mProbando combinación \u001b[39m\u001b[38;5;132;01m{\u001b[39;00mi\u001b[38;5;241m+\u001b[39m\u001b[38;5;241m1\u001b[39m\u001b[38;5;132;01m}\u001b[39;00m\u001b[38;5;124m: \u001b[39m\u001b[38;5;132;01m{\u001b[39;00mparams\u001b[38;5;132;01m}\u001b[39;00m\u001b[38;5;124m\"\u001b[39m)\n\u001b[0;32m     34\u001b[0m model \u001b[38;5;241m=\u001b[39m TabNetClassifier(\n\u001b[0;32m     35\u001b[0m     n_d\u001b[38;5;241m=\u001b[39mparams[\u001b[38;5;124m'\u001b[39m\u001b[38;5;124mn_d\u001b[39m\u001b[38;5;124m'\u001b[39m],\n\u001b[0;32m     36\u001b[0m     n_a\u001b[38;5;241m=\u001b[39mparams[\u001b[38;5;124m'\u001b[39m\u001b[38;5;124mn_a\u001b[39m\u001b[38;5;124m'\u001b[39m],\n\u001b[1;32m   (...)\u001b[0m\n\u001b[0;32m     44\u001b[0m     verbose\u001b[38;5;241m=\u001b[39m\u001b[38;5;241m0\u001b[39m\n\u001b[0;32m     45\u001b[0m )\n\u001b[0;32m     47\u001b[0m model\u001b[38;5;241m.\u001b[39mfit(\n\u001b[1;32m---> 48\u001b[0m     X_train\u001b[38;5;241m=\u001b[39mX_train_res_scaled, y_train\u001b[38;5;241m=\u001b[39my_train_encoded,\n\u001b[0;32m     49\u001b[0m     eval_set\u001b[38;5;241m=\u001b[39m[(X_test_scaled, y_test_encoded)],\n\u001b[0;32m     50\u001b[0m     eval_metric\u001b[38;5;241m=\u001b[39m[\u001b[38;5;124m'\u001b[39m\u001b[38;5;124maccuracy\u001b[39m\u001b[38;5;124m'\u001b[39m],\n\u001b[0;32m     51\u001b[0m     max_epochs\u001b[38;5;241m=\u001b[39m\u001b[38;5;241m150\u001b[39m,\n\u001b[0;32m     52\u001b[0m     patience\u001b[38;5;241m=\u001b[39m\u001b[38;5;241m20\u001b[39m,\n\u001b[0;32m     53\u001b[0m     batch_size\u001b[38;5;241m=\u001b[39m\u001b[38;5;241m512\u001b[39m,\n\u001b[0;32m     54\u001b[0m     virtual_batch_size\u001b[38;5;241m=\u001b[39m\u001b[38;5;241m64\u001b[39m\n\u001b[0;32m     55\u001b[0m )\n\u001b[0;32m     57\u001b[0m \u001b[38;5;66;03m# Evaluar en test\u001b[39;00m\n\u001b[0;32m     58\u001b[0m y_pred \u001b[38;5;241m=\u001b[39m model\u001b[38;5;241m.\u001b[39mpredict(X_test_scaled)\n",
      "\u001b[1;31mNameError\u001b[0m: name 'X_train_res_scaled' is not defined"
     ]
    }
   ],
   "source": [
    "from pytorch_tabnet.tab_model import TabNetClassifier\n",
    "from sklearn.metrics import accuracy_score\n",
    "from sklearn.preprocessing import LabelBinarizer\n",
    "import numpy as np\n",
    "\n",
    "# Escalar y codificar previamente\n",
    "# X_train_res_scaled, y_train_encoded, X_test_scaled, y_test_encoded\n",
    "\n",
    "# Definimos el grid de hiperparámetros\n",
    "param_grid = {\n",
    "    'n_d': [16, 24],\n",
    "    'n_a': [16, 24],\n",
    "    'n_steps': [5, 7],\n",
    "    'gamma': [1.3, 1.5],\n",
    "    'lambda_sparse': [1e-5, 1e-4],\n",
    "    'lr': [1e-3, 2e-3]\n",
    "}\n",
    "\n",
    "from itertools import product\n",
    "\n",
    "# Generar todas las combinaciones posibles\n",
    "keys, values = zip(*param_grid.items())\n",
    "combinations = [dict(zip(keys, v)) for v in product(*values)]\n",
    "\n",
    "best_score = 0\n",
    "best_model = None\n",
    "best_params = None\n",
    "\n",
    "print(f\"Probando {len(combinations)} combinaciones de hiperparámetros...\\n\")\n",
    "\n",
    "for i, params in enumerate(combinations):\n",
    "    print(f\"Probando combinación {i+1}: {params}\")\n",
    "    \n",
    "    model = TabNetClassifier(\n",
    "        n_d=params['n_d'],\n",
    "        n_a=params['n_a'],\n",
    "        n_steps=params['n_steps'],\n",
    "        gamma=params['gamma'],\n",
    "        lambda_sparse=params['lambda_sparse'],\n",
    "        optimizer_params=dict(lr=params['lr']),\n",
    "        scheduler_params={\"step_size\": 10, \"gamma\": 0.9},\n",
    "        mask_type='sparsemax',\n",
    "        momentum=0.3,\n",
    "        verbose=0\n",
    "    )\n",
    "\n",
    "    model.fit(\n",
    "        X_train=X_train_res_scaled, y_train=y_train_encoded,\n",
    "        eval_set=[(X_test_scaled, y_test_encoded)],\n",
    "        eval_metric=['accuracy'],\n",
    "        max_epochs=150,\n",
    "        patience=20,\n",
    "        batch_size=512,\n",
    "        virtual_batch_size=64\n",
    "    )\n",
    "\n",
    "    # Evaluar en test\n",
    "    y_pred = model.predict(X_test_scaled)\n",
    "    acc = accuracy_score(y_test_encoded, y_pred)\n",
    "    print(f\"→ Accuracy: {acc:.4f}\")\n",
    "\n",
    "    if acc > best_score:\n",
    "        best_score = acc\n",
    "        best_model = model\n",
    "        best_params = params\n",
    "\n",
    "print(\"\\n✅ Mejor combinación encontrada:\")\n",
    "print(best_params)\n",
    "print(f\"→ Accuracy: {best_score:.4f}\")\n"
   ]
  },
  {
   "cell_type": "markdown",
   "id": "4f952e82-e4ee-4c80-8436-3c420392a7da",
   "metadata": {},
   "source": [
    "## MÉTRICAS DEL MODELO TRAIN"
   ]
  },
  {
   "cell_type": "code",
   "execution_count": 36,
   "id": "774ca964-5544-483a-803e-b249124686c5",
   "metadata": {},
   "outputs": [
    {
     "ename": "AttributeError",
     "evalue": "'NoneType' object has no attribute 'predict'",
     "output_type": "error",
     "traceback": [
      "\u001b[1;31m---------------------------------------------------------------------------\u001b[0m",
      "\u001b[1;31mAttributeError\u001b[0m                            Traceback (most recent call last)",
      "Cell \u001b[1;32mIn[36], line 6\u001b[0m\n\u001b[0;32m      3\u001b[0m \u001b[38;5;28;01mimport\u001b[39;00m \u001b[38;5;21;01mnumpy\u001b[39;00m \u001b[38;5;28;01mas\u001b[39;00m \u001b[38;5;21;01mnp\u001b[39;00m\n\u001b[0;32m      5\u001b[0m \u001b[38;5;66;03m# Evaluar el mejor modelo sobre el conjunto de entrenamiento\u001b[39;00m\n\u001b[1;32m----> 6\u001b[0m train_pred \u001b[38;5;241m=\u001b[39m best_model\u001b[38;5;241m.\u001b[39mpredict(X_train_res_scaled)\n\u001b[0;32m      7\u001b[0m train_probs \u001b[38;5;241m=\u001b[39m best_model\u001b[38;5;241m.\u001b[39mpredict_proba(X_train_res_scaled)\n\u001b[0;32m      9\u001b[0m \u001b[38;5;28mprint\u001b[39m(\u001b[38;5;124m\"\u001b[39m\u001b[38;5;130;01m\\n\u001b[39;00m\u001b[38;5;124m--- MÉTRICAS EN EL CONJUNTO DE ENTRENAMIENTO ---\u001b[39m\u001b[38;5;124m\"\u001b[39m)\n",
      "\u001b[1;31mAttributeError\u001b[0m: 'NoneType' object has no attribute 'predict'"
     ]
    }
   ],
   "source": [
    "from sklearn.metrics import accuracy_score, recall_score, f1_score, precision_score, roc_auc_score, matthews_corrcoef\n",
    "from sklearn.preprocessing import LabelBinarizer\n",
    "import numpy as np\n",
    "\n",
    "# Evaluar el mejor modelo sobre el conjunto de entrenamiento\n",
    "train_pred = best_model.predict(X_train_res_scaled)\n",
    "train_probs = best_model.predict_proba(X_train_res_scaled)\n",
    "\n",
    "print(\"\\n--- MÉTRICAS EN EL CONJUNTO DE ENTRENAMIENTO ---\")\n",
    "print('Accuracy:', accuracy_score(y_train_encoded, train_pred), '→', accuracy_score(y_train_encoded, train_pred)*100, '%')\n",
    "print('Precisión:', precision_score(y_train_encoded, train_pred, average='macro'), '→', precision_score(y_train_encoded, train_pred, average='macro')*100, '%')\n",
    "print('Recall (sensibilidad):', recall_score(y_train_encoded, train_pred, average='macro'), '→', recall_score(y_train_encoded, train_pred, average='macro')*100, '%')\n",
    "print('F1-score:', f1_score(y_train_encoded, train_pred, average='macro'), '→', f1_score(y_train_encoded, train_pred, average='macro')*100, '%')\n",
    "\n",
    "# AUC (manejo multiclase o binario)\n",
    "if len(np.unique(y_train_encoded)) == 2:\n",
    "    roc_auc = roc_auc_score(y_train_encoded, train_probs[:, 1])\n",
    "else:\n",
    "    roc_auc = roc_auc_score(LabelBinarizer().fit_transform(y_train_encoded), train_probs, multi_class='ovr')\n",
    "print('ROC AUC:', roc_auc, '→', roc_auc*100, '%')\n",
    "\n",
    "# MCC\n",
    "print('Matthews Correlation Coefficient:', matthews_corrcoef(y_train_encoded, train_pred))\n"
   ]
  },
  {
   "cell_type": "code",
   "execution_count": null,
   "id": "87f85488-45e8-43a2-aad4-2396c05382b7",
   "metadata": {},
   "outputs": [],
   "source": [
    "import seaborn as sb\n",
    "import matplotlib.pyplot as plt\n",
    "import pandas as pd\n",
    "\n",
    "# Mapa de clases a letras\n",
    "class_map = {\n",
    "    'Healthy': 'A',\n",
    "    'Iron deficiency anemia': 'B',\n",
    "    'Macrocytic anemia': 'C',\n",
    "    'Normocytic hypochromic anemia': 'D',\n",
    "    'Normocytic normochromic anemia': 'E',\n",
    "    'Other microcytic anemia': 'F'\n",
    "}\n",
    "\n",
    "# Decodificar etiquetas reales y predichas (TRAIN)\n",
    "y_train_labels = le.inverse_transform(y_train_res)\n",
    "pred_labels = le.inverse_transform(pred)\n",
    "\n",
    "# Convertir nombres a letras\n",
    "y_train_letters = [class_map[label] for label in y_train_labels]\n",
    "pred_letters = [class_map[label] for label in pred_labels]\n",
    "\n",
    "# Crear matriz de confusión\n",
    "cnf_matrix = pd.crosstab(\n",
    "    pd.Series(y_train_letters, name='ACTUAL'),\n",
    "    pd.Series(pred_letters, name='Predicción')\n",
    ")\n",
    "\n",
    "# Crear figura más ancha para la leyenda\n",
    "fig, ax = plt.subplots(figsize=(7.5, 6))\n",
    "\n",
    "# Dibujar heatmap con colores agradables\n",
    "sb.heatmap(cnf_matrix, square=True, annot=True, fmt='d', cbar=True, cmap='magma', ax=ax)\n",
    "\n",
    "\n",
    "ax.set_xlabel('Predicted Class', fontsize=11)\n",
    "ax.set_ylabel('True Class', fontsize=11)\n",
    "ax.set_title('TabNet (Train)', fontsize=13, weight='bold')\n",
    "\n",
    "# Leyenda bien pegada\n",
    "leyenda_texto = '\\n'.join([\n",
    "    f\"{v} → {k}\" for k, v in class_map.items()\n",
    "])\n",
    "\n",
    "fig.text(0.88, 0.5, leyenda_texto,\n",
    "         fontsize=10,\n",
    "         va='center',\n",
    "         ha='left',\n",
    "         bbox=dict(boxstyle=\"round,pad=0.4\", facecolor=\"#fffce8\", edgecolor=\"#999\", alpha=0.95),\n",
    "         family='monospace')\n",
    "\n",
    "# Ajustar layout para dejar espacio a la derecha\n",
    "plt.tight_layout(rect=[0, 0, 0.85, 1])\n",
    "plt.show()\n"
   ]
  },
  {
   "cell_type": "markdown",
   "id": "189bf845-e6c3-42c3-a893-4bdb82d1e2d7",
   "metadata": {},
   "source": [
    "## MÉTRICAS DEL MODELO TEST"
   ]
  },
  {
   "cell_type": "code",
   "execution_count": 39,
   "id": "bdddf93b-6c67-4334-89dd-62676a6f3fdc",
   "metadata": {},
   "outputs": [
    {
     "ename": "AttributeError",
     "evalue": "'NoneType' object has no attribute 'predict'",
     "output_type": "error",
     "traceback": [
      "\u001b[1;31m---------------------------------------------------------------------------\u001b[0m",
      "\u001b[1;31mAttributeError\u001b[0m                            Traceback (most recent call last)",
      "Cell \u001b[1;32mIn[39], line 5\u001b[0m\n\u001b[0;32m      2\u001b[0m \u001b[38;5;28;01mfrom\u001b[39;00m \u001b[38;5;21;01msklearn\u001b[39;00m\u001b[38;5;21;01m.\u001b[39;00m\u001b[38;5;21;01mpreprocessing\u001b[39;00m \u001b[38;5;28;01mimport\u001b[39;00m LabelBinarizer\n\u001b[0;32m      4\u001b[0m \u001b[38;5;66;03m# Predicciones y probabilidades sobre el conjunto de prueba\u001b[39;00m\n\u001b[1;32m----> 5\u001b[0m test_pred \u001b[38;5;241m=\u001b[39m best_model\u001b[38;5;241m.\u001b[39mpredict(X_test_scaled)\n\u001b[0;32m      6\u001b[0m test_probs \u001b[38;5;241m=\u001b[39m best_model\u001b[38;5;241m.\u001b[39mpredict_proba(X_test_scaled)\n\u001b[0;32m      8\u001b[0m \u001b[38;5;28mprint\u001b[39m(\u001b[38;5;124m\"\u001b[39m\u001b[38;5;130;01m\\n\u001b[39;00m\u001b[38;5;124m--- MÉTRICAS EN EL CONJUNTO DE PRUEBA ---\u001b[39m\u001b[38;5;124m\"\u001b[39m)\n",
      "\u001b[1;31mAttributeError\u001b[0m: 'NoneType' object has no attribute 'predict'"
     ]
    }
   ],
   "source": [
    "from sklearn.metrics import accuracy_score, recall_score, f1_score, precision_score, classification_report, roc_auc_score, matthews_corrcoef\n",
    "from sklearn.preprocessing import LabelBinarizer\n",
    "\n",
    "# Predicciones y probabilidades sobre el conjunto de prueba\n",
    "test_pred = best_model.predict(X_test_scaled)\n",
    "test_probs = best_model.predict_proba(X_test_scaled)\n",
    "\n",
    "print(\"\\n--- MÉTRICAS EN EL CONJUNTO DE PRUEBA ---\")\n",
    "\n",
    "print('Accuracy:', accuracy_score(y_test_encoded, test_pred), '→', accuracy_score(y_test_encoded, test_pred)*100, '%')\n",
    "print('Precisión:', precision_score(y_test_encoded, test_pred, average='weighted'), '→', precision_score(y_test_encoded, test_pred, average='weighted')*100, '%')\n",
    "print('Recall (sensibilidad):', recall_score(y_test_encoded, test_pred, average='macro'), '→', recall_score(y_test_encoded, test_pred, average='macro')*100, '%')\n",
    "print('F1-score:', f1_score(y_test_encoded, test_pred, average='weighted'), '→', f1_score(y_test_encoded, test_pred, average='weighted')*100, '%')\n",
    "\n",
    "# AUC\n",
    "if len(np.unique(y_test_encoded)) == 2:\n",
    "    roc_auc = roc_auc_score(y_test_encoded, test_probs[:, 1])\n",
    "else:\n",
    "    roc_auc = roc_auc_score(LabelBinarizer().fit_transform(y_test_encoded), test_probs, multi_class='ovr')\n",
    "print('ROC AUC:', roc_auc, '→', roc_auc*100, '%')\n",
    "\n",
    "# MCC\n",
    "print('Matthews Correlation Coefficient:', matthews_corrcoef(y_test_encoded, test_pred), '→', matthews_corrcoef(y_test_encoded, test_pred)*100, '%')\n",
    "\n",
    "# Reporte de clasificación\n",
    "print(\"\\nClassification Report (TEST):\")\n",
    "print(classification_report(y_test_encoded, test_pred, target_names=label_encoder.classes_.astype(str)))"
   ]
  },
  {
   "cell_type": "code",
   "execution_count": null,
   "id": "ce9dee60-5d79-4c1d-a6fc-07d8f28e4b48",
   "metadata": {},
   "outputs": [],
   "source": [
    "import seaborn as sb\n",
    "import matplotlib.pyplot as plt\n",
    "import pandas as pd\n",
    "\n",
    "# Mapa de clases a letras\n",
    "class_map = {\n",
    "    'Healthy': 'A',\n",
    "    'Iron deficiency anemia': 'B',\n",
    "    'Macrocytic anemia': 'C',\n",
    "    'Normocytic hypochromic anemia': 'D',\n",
    "    'Normocytic normochromic anemia': 'E',\n",
    "    'Other microcytic anemia': 'F'\n",
    "}\n",
    "\n",
    "# Decodificar etiquetas\n",
    "y_test_labels = le.inverse_transform(y_testset)\n",
    "pred_labels = le.inverse_transform(pred)\n",
    "\n",
    "# Convertir nombres a letras\n",
    "y_test_letters = [class_map[label] for label in y_test_labels]\n",
    "pred_letters = [class_map[label] for label in pred_labels]\n",
    "\n",
    "# Crear matriz de confusión\n",
    "cnf_matrix = pd.crosstab(\n",
    "    pd.Series(y_test_letters, name='ACTUAL'),\n",
    "    pd.Series(pred_letters, name='Predicción')\n",
    ")\n",
    "\n",
    "# Crear figura más ancha para acomodar leyenda\n",
    "fig, ax = plt.subplots(figsize=(7.5, 6))\n",
    "\n",
    "# Dibujar heatmap\n",
    "sb.heatmap(cnf_matrix, square=True, annot=True, fmt='d', cbar=True, cmap='magma', ax=ax)\n",
    "ax.set_xlabel('Predicted Class', fontsize=11)\n",
    "ax.set_ylabel('True Class', fontsize=11)\n",
    "ax.set_title('TabNet Matrix (Test)', fontsize=13, weight='bold')\n",
    "\n",
    "# Leyenda bien pegada al heatmap\n",
    "leyenda_texto = '\\n'.join([\n",
    "    f\"{v} → {k}\" for k, v in class_map.items()\n",
    "])\n",
    "\n",
    "fig.text(0.88, 0.5, leyenda_texto,\n",
    "         fontsize=10,\n",
    "         va='center',\n",
    "         ha='left',\n",
    "         bbox=dict(boxstyle=\"round,pad=0.4\", facecolor=\"#fffce8\", edgecolor=\"#999\", alpha=0.95),\n",
    "         family='monospace')\n",
    "\n",
    "# Ajustar límites del gráfico para dejar espacio al costado derecho\n",
    "plt.tight_layout(rect=[0, 0, 0.85, 1])  # Mueve el heatmap a la izquierda\n",
    "\n",
    "plt.show()\n"
   ]
  },
  {
   "cell_type": "code",
   "execution_count": null,
   "id": "ce5fdd0f-7511-4cf1-bad2-b7bc3a23f6ed",
   "metadata": {},
   "outputs": [],
   "source": []
  },
  {
   "cell_type": "code",
   "execution_count": null,
   "id": "14766864-94df-490a-b22c-914faf94d288",
   "metadata": {},
   "outputs": [],
   "source": []
  }
 ],
 "metadata": {
  "kernelspec": {
   "display_name": "Python 3 (ipykernel)",
   "language": "python",
   "name": "python3"
  },
  "language_info": {
   "codemirror_mode": {
    "name": "ipython",
    "version": 3
   },
   "file_extension": ".py",
   "mimetype": "text/x-python",
   "name": "python",
   "nbconvert_exporter": "python",
   "pygments_lexer": "ipython3",
   "version": "3.12.3"
  }
 },
 "nbformat": 4,
 "nbformat_minor": 5
}
